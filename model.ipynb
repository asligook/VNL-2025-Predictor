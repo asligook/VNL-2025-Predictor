{
 "cells": [
  {
   "cell_type": "markdown",
   "metadata": {},
   "source": [
    "### VNL 2025 Predictor\n",
    "\n",
    "##### This project aims to predict the Women's VNL (Volleyball Nations Leauge) 2025 winner with the data obtained from the official website like World Rankings, VNL 2025 tournament statistics until the finals round, individual players' rankings and statistics. "
   ]
  },
  {
   "cell_type": "code",
   "execution_count": 4,
   "metadata": {},
   "outputs": [
    {
     "name": "stdout",
     "output_type": "stream",
     "text": [
      "    Rank                 Country  Points\n",
      "0      1                   Italy  460.37\n",
      "1      2                  Brazil  429.18\n",
      "2      3                  Poland  357.72\n",
      "3      4                   Japan  352.16\n",
      "4      5                   China  348.79\n",
      "5      6                 Türkiye  342.02\n",
      "6      7                     USA  341.10\n",
      "7      8             Netherlands  262.75\n",
      "8      9                  Serbia  261.84\n",
      "9     10                 Germany  254.15\n",
      "10    11      Dominican Republic  248.35\n",
      "11    12                  Canada  237.78\n",
      "12    13                 Czechia  205.94\n",
      "13    14                  France  192.72\n",
      "14    15                 Ukraine  192.10\n",
      "15    16               Argentina  189.05\n",
      "16    17                 Belgium  188.78\n",
      "17    18             Puerto Rico  182.58\n",
      "18    19                Bulgaria  163.03\n",
      "19    20                Thailand  161.27\n",
      "20    21                Colombia  152.37\n",
      "21    22                   Kenya  152.15\n",
      "22    23                  Sweden  149.09\n",
      "23    24                    Cuba  145.17\n",
      "24    25                Slovenia  142.69\n",
      "25    26                 Vietnam  141.21\n",
      "26    27                 Romania  140.82\n",
      "27    28                  Mexico  138.42\n",
      "28    29                Slovakia  128.54\n",
      "29    30                 Hungary  124.45\n",
      "30    31             Switzerland  120.98\n",
      "31    32                  Greece  114.27\n",
      "32    33                   Spain  112.45\n",
      "33    34              Kazakhstan  105.06\n",
      "34    35                 Croatia  102.94\n",
      "35    36                 Austria   99.99\n",
      "36    37                   Korea   99.53\n",
      "37    38                    Peru   99.14\n",
      "38    39  Bosnia and Herzegovina   95.83\n",
      "39    40                Portugal   93.50\n",
      "40    41                 Finland   92.38\n",
      "41    42          Chinese Taipei   91.24\n",
      "42    43                Cameroon   85.69\n",
      "43    44                Scotland   80.85\n",
      "44    45              Montenegro   74.94\n",
      "45    46              Azerbaijan   73.52\n",
      "46    47             Philippines   71.78\n",
      "47    48                  Latvia   69.72\n",
      "48    49              San Marino   63.81\n",
      "49    50               Indonesia   58.03\n",
      "(50, 3)\n"
     ]
    }
   ],
   "source": [
    "import pandas as pd\n",
    "\n",
    "def parse_world_rankings(file_path):\n",
    "    \"\"\"\n",
    "    Parses the world-rankings.txt file and returns a DataFrame with [Rank,Country,Points] columns.\n",
    "    Args:\n",
    "        file_path (str): Path to the world-rankings.txt file.\n",
    "    Returns:\n",
    "        pd.DataFrame: DataFrame containing the rankings with columns [Rank, Country, Points].\n",
    "    \"\"\"\n",
    "    data = []\n",
    "\n",
    "    with open(file_path, 'r', encoding='utf-8') as f:\n",
    "        lines = f.read().split('❮')  # each individual entry in the .txt is separated by '❮'\n",
    "\n",
    "    for block in lines:\n",
    "        block = block.strip()\n",
    "        if not block:\n",
    "            continue \n",
    "\n",
    "        parts = block.split('\\n')\n",
    "        if len(parts) < 4:\n",
    "            continue \n",
    "\n",
    "        try:\n",
    "            rank = int(parts[0].strip())\n",
    "            country = parts[2].strip()\n",
    "            points = float(parts[3].strip())\n",
    "            data.append({'Rank': rank, 'Country': country, 'Points': points}) \n",
    "        except Exception as e:\n",
    "            print(f\"Skipping block due to error: {e}\")\n",
    "            continue\n",
    "\n",
    "    df = pd.DataFrame(data)\n",
    "    return df\n",
    "\n",
    "world_df = parse_world_rankings(\"world-rankings.txt\")\n",
    "print(world_df)\n",
    "print(world_df.shape)"
   ]
  },
  {
   "cell_type": "code",
   "execution_count": 2,
   "metadata": {},
   "outputs": [
    {
     "name": "stdout",
     "output_type": "stream",
     "text": [
      "{'Belgium': 'BEL', 'Brazil': 'BRA', 'Bulgaria': 'BUL', 'Canada': 'CAN', 'China': 'CHN', 'Czechia': 'CZE', 'Dominican Republic': 'DOM', 'France': 'FRA', 'Germany': 'GER', 'Italy': 'ITA', 'Japan': 'JPN', 'Korea': 'KOR', 'Netherlands': 'NED', 'Poland': 'POL', 'Serbia': 'SRB', 'Thailand': 'THA', 'Türkiye': 'TUR', 'USA': 'USA'}\n"
     ]
    }
   ],
   "source": [
    "from bs4 import BeautifulSoup\n",
    "\n",
    "def parse_vnl_teams(html_file):\n",
    "    \"\"\"\n",
    "    Parses VNL 2025 teams from the HTML file and returns a dictionary:\n",
    "    { 'Country': 'Code', ... }\n",
    "    Args:        \n",
    "    html_file (str): Path to the HTML file containing VNL 2025 teams.\n",
    "    Returns:\n",
    "        dict: Dictionary with country names as keys and their codes as values.\n",
    "    \"\"\"\n",
    "    with open(html_file, 'r', encoding='utf-8') as f:\n",
    "        soup = BeautifulSoup(f, 'html.parser')\n",
    "\n",
    "    teams = {}\n",
    "\n",
    "    # Find all parent <a> blocks (each team)\n",
    "    for a_tag in soup.find_all('a', class_='d3-l-col__col-2'):\n",
    "        name_div = a_tag.find('div', class_='vbw-mu__team__name')\n",
    "        code_div = a_tag.find('div', class_='vbw-mu__team__name vbw-mu__team__name--abbr')\n",
    "\n",
    "        if name_div and code_div:\n",
    "            name = name_div.text.strip()\n",
    "            code = code_div.text.strip()\n",
    "            teams[name] = code\n",
    "\n",
    "    return teams\n",
    "\n",
    "# Example usage:\n",
    "teams_dict = parse_vnl_teams('vnl-2025-teams.html')\n",
    "print(teams_dict)"
   ]
  },
  {
   "cell_type": "code",
   "execution_count": 5,
   "metadata": {},
   "outputs": [
    {
     "name": "stdout",
     "output_type": "stream",
     "text": [
      "    Rank             Country  Points Code\n",
      "0      1               Italy  460.37  ITA\n",
      "1      2              Brazil  429.18  BRA\n",
      "2      3              Poland  357.72  POL\n",
      "3      4               Japan  352.16  JPN\n",
      "4      5               China  348.79  CHN\n",
      "5      6             Türkiye  342.02  TUR\n",
      "6      7                 USA  341.10  USA\n",
      "7      8         Netherlands  262.75  NED\n",
      "8      9              Serbia  261.84  SRB\n",
      "9     10             Germany  254.15  GER\n",
      "10    11  Dominican Republic  248.35  DOM\n",
      "11    12              Canada  237.78  CAN\n",
      "12    13             Czechia  205.94  CZE\n",
      "13    14              France  192.72  FRA\n",
      "16    17             Belgium  188.78  BEL\n",
      "18    19            Bulgaria  163.03  BUL\n",
      "19    20            Thailand  161.27  THA\n",
      "36    37               Korea   99.53  KOR\n",
      "(18, 4)\n"
     ]
    }
   ],
   "source": [
    "def filter_and_add_code(world_df, teams_dict):\n",
    "    \"\"\"\n",
    "    Filter world_df to keep only rows where Country is in teams_dict keys.\n",
    "    Add 'Code' column from teams_dict.\n",
    "    \"\"\"\n",
    "    # Filter\n",
    "    filtered_df = world_df[world_df['Country'].isin(teams_dict.keys())].copy()\n",
    "\n",
    "    # Map code\n",
    "    filtered_df['Code'] = filtered_df['Country'].map(teams_dict)\n",
    "\n",
    "    return filtered_df\n",
    "\n",
    "# Example usage:\n",
    "filtered_df = filter_and_add_code(world_df, teams_dict)\n",
    "print(filtered_df)\n",
    "print(filtered_df.shape)"
   ]
  },
  {
   "cell_type": "code",
   "execution_count": 7,
   "metadata": {},
   "outputs": [
    {
     "name": "stdout",
     "output_type": "stream",
     "text": [
      "           Date Team_A  Team_A_Points Team_B  Team_B_Points Result  \\\n",
      "0  Jul 13, 2025    NED         264.41    ITA         458.71  0 - 3   \n",
      "1  Jul 12, 2025    TUR         357.78    ITA         458.70  2 - 3   \n",
      "2  Jul 10, 2025    ITA         457.49    SRB         240.25  3 - 0   \n",
      "3   Jul 9, 2025    ITA         456.91    BEL         190.65  3 - 0   \n",
      "4  Jun 22, 2025    CHN         351.47    ITA         452.19  0 - 3   \n",
      "\n",
      "   Points_Change  Team_A_Won  \n",
      "0           1.66           0  \n",
      "1           0.01           0  \n",
      "2           1.22           1  \n",
      "3           0.58           1  \n",
      "4           4.72           0  \n",
      "(727, 8)\n"
     ]
    }
   ],
   "source": [
    "def parse_more_details(file_path, teams_dict):\n",
    "    \"\"\"\n",
    "    Parse the detailed matches file into a clean DataFrame:\n",
    "    - One row per match\n",
    "    - Only VNL 2025 teams\n",
    "    - Columns: Date, Team_A, Team_A_Points, Team_B, Team_B_Points, Result, Points_Change, Team_A_Won\n",
    "    \"\"\"\n",
    "    matches = []\n",
    "\n",
    "    with open(file_path, 'r', encoding='utf-8') as f:\n",
    "        lines = f.readlines()\n",
    "\n",
    "    current_date = None\n",
    "\n",
    "    for line in lines:\n",
    "        line = line.strip()\n",
    "\n",
    "        # Is it a date line?\n",
    "        if line and not '\\t' in line and not line.startswith('+/-'):\n",
    "            current_date = line\n",
    "            continue\n",
    "\n",
    "        # Skip headers and empty lines\n",
    "        if not line or line.startswith('Date') or line.startswith('+/'):\n",
    "            continue\n",
    "\n",
    "        # It’s a match row\n",
    "        parts = line.split('\\t')\n",
    "        if len(parts) < 7:\n",
    "            continue  # Skip malformed\n",
    "\n",
    "        team_a = parts[0].strip()\n",
    "        team_a_points = float(parts[1].strip())\n",
    "        team_b_points = float(parts[2].strip())\n",
    "        team_b = parts[3].strip()\n",
    "        result = parts[5].strip()\n",
    "        points_change = parts[6].strip().replace('+', '')  # remove plus sign\n",
    "        points_change = float(points_change)\n",
    "\n",
    "        # Only keep matches where both teams are VNL teams\n",
    "        if team_a not in teams_dict.values() or team_b not in teams_dict.values():\n",
    "            continue\n",
    "\n",
    "        # Determine winner\n",
    "        sets = result.split('-')\n",
    "        team_a_sets = int(sets[0].strip())\n",
    "        team_b_sets = int(sets[1].strip())\n",
    "\n",
    "        team_a_won = 1 if team_a_sets > team_b_sets else 0\n",
    "\n",
    "        matches.append({\n",
    "            'Date': current_date,\n",
    "            'Team_A': team_a,\n",
    "            'Team_A_Points': team_a_points,\n",
    "            'Team_B': team_b,\n",
    "            'Team_B_Points': team_b_points,\n",
    "            'Result': result,\n",
    "            'Points_Change': points_change,\n",
    "            'Team_A_Won': team_a_won\n",
    "        })\n",
    "\n",
    "    df = pd.DataFrame(matches)\n",
    "    return df\n",
    "\n",
    "# Example usage:\n",
    "matches_df = parse_more_details('more-details.txt', teams_dict)\n",
    "print(matches_df.head())\n",
    "print(matches_df.shape)"
   ]
  },
  {
   "cell_type": "code",
   "execution_count": 11,
   "metadata": {},
   "outputs": [
    {
     "name": "stdout",
     "output_type": "stream",
     "text": [
      "   Rank  Player Name Team  Points  Errors  Attempts  Average per match  \\\n",
      "0     1       Ndiaye  FRA     190      75       179              15.83   \n",
      "1     2  B. Martinez  DOM     181      40       200              15.08   \n",
      "2     3      Wu M.J.  CHN     178      47       177              17.80   \n",
      "3     4     Alsmeier  GER     170      57       162              14.17   \n",
      "4     5         Wada  JPN     166      47       146              13.83   \n",
      "\n",
      "   Success %  Total  \n",
      "0      42.79    444  \n",
      "1      42.99    421  \n",
      "2      44.28    402  \n",
      "3      43.70    389  \n",
      "4      46.24    359  \n",
      "   Team  Top_Scorer_Points  Top_3_Avg_Points  Team_Avg_Success_%  \\\n",
      "0   BEL              135.0        107.000000           39.733333   \n",
      "1   BRA              147.0        113.666667           43.988571   \n",
      "2   BUL              129.0        103.000000           32.005333   \n",
      "3   CAN               98.0         88.000000           47.900714   \n",
      "4   CHN              178.0        145.666667           44.717500   \n",
      "5   CZE              162.0        137.666667           36.065385   \n",
      "6   DOM              181.0        141.666667           39.240000   \n",
      "7   FRA              190.0        137.666667           36.811765   \n",
      "8   GER              170.0        110.000000           36.826875   \n",
      "9   ITA              145.0        104.666667           49.257857   \n",
      "10  JPN              166.0        156.666667           40.675000   \n",
      "11  KOR              140.0        108.000000           34.453333   \n",
      "12  NED              152.0        106.000000           39.845714   \n",
      "13  POL              137.0        113.000000           45.923571   \n",
      "14  SRB              120.0         98.666667           38.289375   \n",
      "15  THA              144.0        101.333333           37.596429   \n",
      "16  TUR               96.0         91.666667           39.924444   \n",
      "17  USA              117.0        102.333333           39.691000   \n",
      "\n",
      "    Team_Avg_Errors  Num_Players_150+  Offense_Score  \n",
      "0         13.250000               0.0      42.514667  \n",
      "1          8.947368               0.0      50.000343  \n",
      "2         12.250000               0.0      32.965493  \n",
      "3         11.666667               0.0      42.152629  \n",
      "4          9.529412               2.0      65.138492  \n",
      "5         12.588235               1.0      49.650013  \n",
      "6         12.117647               2.0      55.590000  \n",
      "7         11.904762               1.0      50.677529  \n",
      "8         12.888889               1.0      40.509563  \n",
      "9          8.722222               0.0      51.556557  \n",
      "10         9.000000               2.0      63.724167  \n",
      "11        17.400000               0.0      37.209600  \n",
      "12        11.000000               1.0      42.236457  \n",
      "13        11.470588               0.0      51.893636  \n",
      "14        11.857143               0.0      37.778850  \n",
      "15        10.388889               0.0      38.097714  \n",
      "16         9.190476               0.0      36.597407  \n",
      "17         8.920000               0.0      40.617123  \n"
     ]
    },
    {
     "name": "stderr",
     "output_type": "stream",
     "text": [
      "/var/folders/38/kvr29r_s0_3bpzlvqgh6zksr0000gn/T/ipykernel_94229/4214128814.py:5: DeprecationWarning: DataFrameGroupBy.apply operated on the grouping columns. This behavior is deprecated, and in a future version of pandas the grouping columns will be excluded from the operation. Either pass `include_groups=False` to exclude the groupings or explicitly select the grouping columns after groupby to silence this warning.\n",
      "  .apply(lambda df: pd.Series({\n"
     ]
    }
   ],
   "source": [
    "def aggregate_player_stats(player_df):\n",
    "    team_stats = (\n",
    "        player_df\n",
    "        .groupby('Team')\n",
    "        .apply(lambda df: pd.Series({\n",
    "            'Top_Scorer_Points': df['Points'].max(),\n",
    "            'Top_3_Avg_Points': df.nlargest(3, 'Points')['Points'].mean(),\n",
    "            'Team_Avg_Success_%': df['Success %'].mean(),\n",
    "            'Team_Avg_Errors': df['Errors'].mean(),\n",
    "            'Num_Players_150+': (df['Points'] > 150).sum()\n",
    "        }))\n",
    "        .reset_index()\n",
    "    )\n",
    "    # Easy offense score\n",
    "    team_stats['Offense_Score'] = team_stats['Top_3_Avg_Points'] * (team_stats['Team_Avg_Success_%'] / 100)\n",
    "    return team_stats\n",
    "\n",
    "# Example usage:\n",
    "player_stats_df = pd.read_csv('individuals-vnl-2025.tsv',delimiter='\\t')  # Assuming player stats are in this CS\n",
    "print(player_stats_df.head())\n",
    "\n",
    "team_stats_df = aggregate_player_stats(player_stats_df)\n",
    "print(team_stats_df)"
   ]
  },
  {
   "cell_type": "code",
   "execution_count": 12,
   "metadata": {},
   "outputs": [],
   "source": [
    "def merge_features(matches_df, world_df, team_stats_df):\n",
    "    \"\"\"\n",
    "    Add pre-match rank, points, offense score for both teams.\n",
    "    \"\"\"\n",
    "    # Keep only needed columns\n",
    "    world_cols = ['Code', 'Rank', 'Points']\n",
    "    team_stats_cols = ['Team', 'Offense_Score']\n",
    "    \n",
    "    # Merge for Team A\n",
    "    df = matches_df.merge(world_df[world_cols], left_on='Team_A', right_on='Code', how='left')\n",
    "    df = df.merge(team_stats_df[team_stats_cols], left_on='Team_A', right_on='Team', how='left')\n",
    "    df = df.rename(columns={\n",
    "        'Rank': 'Team_A_Rank',\n",
    "        'Points': 'Team_A_WorldPoints',\n",
    "        'Offense_Score': 'Team_A_Offense'\n",
    "    }).drop(columns=['Code', 'Team'])\n",
    "\n",
    "    # Merge for Team B\n",
    "    df = df.merge(world_df[world_cols], left_on='Team_B', right_on='Code', how='left')\n",
    "    df = df.merge(team_stats_df[team_stats_cols], left_on='Team_B', right_on='Team', how='left')\n",
    "    df = df.rename(columns={\n",
    "        'Rank': 'Team_B_Rank',\n",
    "        'Points': 'Team_B_WorldPoints',\n",
    "        'Offense_Score': 'Team_B_Offense'\n",
    "    }).drop(columns=['Code', 'Team'])\n",
    "\n",
    "    return df"
   ]
  },
  {
   "cell_type": "code",
   "execution_count": 13,
   "metadata": {},
   "outputs": [],
   "source": [
    "def create_features(df):\n",
    "    df['Rank_Diff'] = df['Team_A_Rank'] - df['Team_B_Rank']\n",
    "    df['Points_Diff'] = df['Team_A_WorldPoints'] - df['Team_B_WorldPoints']\n",
    "    df['Offense_Diff'] = df['Team_A_Offense'] - df['Team_B_Offense']\n",
    "    return df"
   ]
  },
  {
   "cell_type": "code",
   "execution_count": 14,
   "metadata": {},
   "outputs": [],
   "source": [
    "from sklearn.model_selection import train_test_split\n",
    "from sklearn.linear_model import LogisticRegression\n",
    "from sklearn.metrics import accuracy_score, confusion_matrix\n",
    "\n",
    "def baseline_model(df):\n",
    "    features = ['Rank_Diff', 'Points_Diff', 'Offense_Diff']\n",
    "    X = df[features]\n",
    "    y = df['Team_A_Won']\n",
    "\n",
    "    X_train, X_test, y_train, y_test = train_test_split(X, y, test_size=0.2, random_state=42)\n",
    "\n",
    "    model = LogisticRegression()\n",
    "    model.fit(X_train, y_train)\n",
    "\n",
    "    y_pred = model.predict(X_test)\n",
    "    acc = accuracy_score(y_test, y_pred)\n",
    "\n",
    "    print(f'Baseline Accuracy: {acc:.3f}')\n",
    "    print('Confusion Matrix:')\n",
    "    print(confusion_matrix(y_test, y_pred))\n",
    "\n",
    "    return model"
   ]
  },
  {
   "cell_type": "code",
   "execution_count": 16,
   "metadata": {},
   "outputs": [
    {
     "name": "stdout",
     "output_type": "stream",
     "text": [
      "Baseline Accuracy: 0.740\n",
      "Confusion Matrix:\n",
      "[[62 11]\n",
      " [27 46]]\n"
     ]
    }
   ],
   "source": [
    "# 1. Merge features\n",
    "merged_df = merge_features(matches_df, filtered_df, team_stats_df)\n",
    "\n",
    "# 2. Create differences\n",
    "features_df = create_features(merged_df)\n",
    "\n",
    "# 3. Train baseline\n",
    "model = baseline_model(features_df)"
   ]
  },
  {
   "cell_type": "code",
   "execution_count": 19,
   "metadata": {},
   "outputs": [
    {
     "name": "stdout",
     "output_type": "stream",
     "text": [
      "ITA vs USA: Team A win probability = 80.19%\n",
      "POL vs CHN: Team A win probability = 55.80%\n",
      "JPN vs TUR: Team A win probability = 42.07%\n",
      "BRA vs GER: Team A win probability = 89.83%\n"
     ]
    }
   ],
   "source": [
    "import pandas as pd\n",
    "\n",
    "def prepare_match_input(team_a, team_b, filtered_df, team_stats_df):\n",
    "    # Get A info\n",
    "    a_info = filtered_df.merge(team_stats_df, left_on='Code', right_on='Team')\n",
    "    a_row = a_info[a_info['Code'] == team_a]\n",
    "    b_row = a_info[a_info['Code'] == team_b]\n",
    "\n",
    "    Rank_Diff = a_row['Rank'].values[0] - b_row['Rank'].values[0]\n",
    "    Points_Diff = a_row['Points'].values[0] - b_row['Points'].values[0]\n",
    "    Offense_Diff = a_row['Offense_Score'].values[0] - b_row['Offense_Score'].values[0]\n",
    "\n",
    "    return {\n",
    "        'Rank_Diff': Rank_Diff,\n",
    "        'Points_Diff': Points_Diff,\n",
    "        'Offense_Diff': Offense_Diff\n",
    "    }\n",
    "\n",
    "# Example upcoming matches — use CODE not country name!\n",
    "upcoming = [\n",
    "    ('ITA', 'USA'),  # Italy vs USA\n",
    "    ('POL', 'CHN'),  # Poland vs China\n",
    "    ('JPN', 'TUR'),  # Japan vs Türkiye\n",
    "    ('BRA', 'GER')   # Brazil vs Germany\n",
    "]\n",
    "\n",
    "# Prepare all\n",
    "X_new = []\n",
    "match_names = []\n",
    "for a, b in upcoming:\n",
    "    features = prepare_match_input(a, b, filtered_df, team_stats_df)\n",
    "    X_new.append(features)\n",
    "    match_names.append(f\"{a} vs {b}\")\n",
    "\n",
    "X_new_df = pd.DataFrame(X_new)\n",
    "\n",
    "# Predict win probability for Team A\n",
    "probabilities = model.predict_proba(X_new_df)[:, 1]\n",
    "\n",
    "# Show results\n",
    "for match, prob in zip(match_names, probabilities):\n",
    "    print(f\"{match}: Team A win probability = {prob:.2%}\")"
   ]
  },
  {
   "cell_type": "code",
   "execution_count": 25,
   "metadata": {},
   "outputs": [
    {
     "name": "stdout",
     "output_type": "stream",
     "text": [
      "Requirement already satisfied: xgboost in /Library/Frameworks/Python.framework/Versions/3.12/lib/python3.12/site-packages (3.0.2)\n",
      "Requirement already satisfied: numpy in /Library/Frameworks/Python.framework/Versions/3.12/lib/python3.12/site-packages (from xgboost) (1.26.3)\n",
      "Requirement already satisfied: scipy in /Library/Frameworks/Python.framework/Versions/3.12/lib/python3.12/site-packages (from xgboost) (1.12.0)\n",
      "\n",
      "\u001b[1m[\u001b[0m\u001b[34;49mnotice\u001b[0m\u001b[1;39;49m]\u001b[0m\u001b[39;49m A new release of pip is available: \u001b[0m\u001b[31;49m24.3.1\u001b[0m\u001b[39;49m -> \u001b[0m\u001b[32;49m25.1.1\u001b[0m\n",
      "\u001b[1m[\u001b[0m\u001b[34;49mnotice\u001b[0m\u001b[1;39;49m]\u001b[0m\u001b[39;49m To update, run: \u001b[0m\u001b[32;49mpython3 -m pip install --upgrade pip\u001b[0m\n",
      "Note: you may need to restart the kernel to use updated packages.\n"
     ]
    }
   ],
   "source": [
    "pip install xgboost"
   ]
  },
  {
   "cell_type": "code",
   "execution_count": 27,
   "metadata": {},
   "outputs": [
    {
     "name": "stderr",
     "output_type": "stream",
     "text": [
      "/Library/Frameworks/Python.framework/Versions/3.12/lib/python3.12/site-packages/xgboost/training.py:183: UserWarning: [19:21:42] WARNING: /Users/runner/work/xgboost/xgboost/src/learner.cc:738: \n",
      "Parameters: { \"use_label_encoder\" } are not used.\n",
      "\n",
      "  bst.update(dtrain, iteration=i, fobj=obj)\n"
     ]
    }
   ],
   "source": [
    "from sklearn.model_selection import train_test_split\n",
    "from sklearn.linear_model import LogisticRegression\n",
    "from sklearn.ensemble import RandomForestClassifier\n",
    "from sklearn.metrics import accuracy_score, confusion_matrix\n",
    "from xgboost import XGBClassifier\n",
    "from sklearn.neural_network import MLPClassifier\n",
    "import matplotlib.pyplot as plt\n",
    "import seaborn as sns\n",
    "import pandas as pd\n",
    "\n",
    "def run_models(df):\n",
    "    X = df[['Rank_Diff', 'Points_Diff', 'Offense_Diff']]\n",
    "    y = df['Team_A_Won']\n",
    "    X_train, X_test, y_train, y_test = train_test_split(X, y, test_size=0.2, random_state=42)\n",
    "\n",
    "    results = []\n",
    "    models = {\n",
    "        \"Logistic Regression\": LogisticRegression(),\n",
    "        \"Random Forest\": RandomForestClassifier(n_estimators=100, random_state=42),\n",
    "        \"XGBoost\": XGBClassifier(use_label_encoder=False, eval_metric='logloss'),\n",
    "        \"Neural Net\": MLPClassifier(hidden_layer_sizes=(16, 8), max_iter=1000, random_state=42)\n",
    "    }\n",
    "\n",
    "    trained_models = {}\n",
    "\n",
    "    for name, model in models.items():\n",
    "        model.fit(X_train, y_train)\n",
    "        y_pred = model.predict(X_test)\n",
    "        acc = accuracy_score(y_test, y_pred)\n",
    "        cm = confusion_matrix(y_test, y_pred)\n",
    "        results.append({\n",
    "            \"Model\": name,\n",
    "            \"Accuracy\": acc,\n",
    "            \"Confusion Matrix\": cm\n",
    "        })\n",
    "        trained_models[name] = model\n",
    "\n",
    "    return results, trained_models\n",
    "\n",
    "# Run\n",
    "results, trained_models = run_models(features_df)"
   ]
  },
  {
   "cell_type": "code",
   "execution_count": 28,
   "metadata": {},
   "outputs": [
    {
     "name": "stderr",
     "output_type": "stream",
     "text": [
      "/var/folders/38/kvr29r_s0_3bpzlvqgh6zksr0000gn/T/ipykernel_94229/739670632.py:6: FutureWarning: \n",
      "\n",
      "Passing `palette` without assigning `hue` is deprecated and will be removed in v0.14.0. Assign the `x` variable to `hue` and set `legend=False` for the same effect.\n",
      "\n",
      "  sns.barplot(x=model_names, y=accuracies, palette=\"viridis\")\n"
     ]
    },
    {
     "data": {
      "image/png": "[encoded data removed]",
      "text/plain": [
       "<Figure size 800x500 with 1 Axes>"
      ]
     },
     "metadata": {},
     "output_type": "display_data"
    }
   ],
   "source": [
    "# Plot accuracy comparison\n",
    "model_names = [r[\"Model\"] for r in results]\n",
    "accuracies = [r[\"Accuracy\"] for r in results]\n",
    "\n",
    "plt.figure(figsize=(8, 5))\n",
    "sns.barplot(x=model_names, y=accuracies, palette=\"viridis\")\n",
    "plt.title(\"Model Accuracy Comparison\")\n",
    "plt.ylim(0, 1)\n",
    "plt.ylabel(\"Accuracy\")\n",
    "plt.show()"
   ]
  },
  {
   "cell_type": "code",
   "execution_count": 29,
   "metadata": {},
   "outputs": [
    {
     "data": {
      "image/png": "[encoded data removed]",
      "text/plain": [
       "<Figure size 400x400 with 2 Axes>"
      ]
     },
     "metadata": {},
     "output_type": "display_data"
    },
    {
     "data": {
      "image/png": "[encoded data removed]",
      "text/plain": [
       "<Figure size 400x400 with 2 Axes>"
      ]
     },
     "metadata": {},
     "output_type": "display_data"
    },
    {
     "data": {
      "image/png": "[encoded data removed]",
      "text/plain": [
       "<Figure size 400x400 with 2 Axes>"
      ]
     },
     "metadata": {},
     "output_type": "display_data"
    },
    {
     "data": {
      "image/png": "[encoded data removed]",
      "text/plain": [
       "<Figure size 400x400 with 2 Axes>"
      ]
     },
     "metadata": {},
     "output_type": "display_data"
    }
   ],
   "source": [
    "# Plot confusion matrices\n",
    "for r in results:\n",
    "    cm = r[\"Confusion Matrix\"]\n",
    "    plt.figure(figsize=(4, 4))\n",
    "    sns.heatmap(cm, annot=True, fmt='d', cmap='Blues')\n",
    "    plt.title(f\"{r['Model']} Confusion Matrix\")\n",
    "    plt.xlabel('Predicted')\n",
    "    plt.ylabel('Actual')\n",
    "    plt.show()"
   ]
  },
  {
   "cell_type": "code",
   "execution_count": 31,
   "metadata": {},
   "outputs": [
    {
     "name": "stdout",
     "output_type": "stream",
     "text": [
      "\n",
      "Logistic Regression predictions:\n",
      "ITA vs USA: Team A win probability = 80.19%\n",
      "POL vs CHN: Team A win probability = 55.80%\n",
      "JPN vs TUR: Team A win probability = 42.07%\n",
      "BRA vs GER: Team A win probability = 89.83%\n",
      "\n",
      "Random Forest predictions:\n",
      "ITA vs USA: Team A win probability = 81.43%\n",
      "POL vs CHN: Team A win probability = 20.83%\n",
      "JPN vs TUR: Team A win probability = 64.68%\n",
      "BRA vs GER: Team A win probability = 96.54%\n",
      "\n",
      "XGBoost predictions:\n",
      "ITA vs USA: Team A win probability = 81.21%\n",
      "POL vs CHN: Team A win probability = 11.67%\n",
      "JPN vs TUR: Team A win probability = 61.69%\n",
      "BRA vs GER: Team A win probability = 98.67%\n",
      "\n",
      "Neural Net predictions:\n",
      "ITA vs USA: Team A win probability = 81.46%\n",
      "POL vs CHN: Team A win probability = 35.23%\n",
      "JPN vs TUR: Team A win probability = 52.14%\n",
      "BRA vs GER: Team A win probability = 94.75%\n"
     ]
    }
   ],
   "source": [
    "# Prepare upcoming matches\n",
    "X_new_df = pd.DataFrame([prepare_match_input(a, b, filtered_df, team_stats_df) \n",
    "                         for a, b in upcoming])\n",
    "match_names = [f\"{a} vs {b}\" for a, b in upcoming]\n",
    "\n",
    "# Predict for each model\n",
    "for name, model in trained_models.items():\n",
    "    probs = model.predict_proba(X_new_df)[:, 1]\n",
    "    print(f\"\\n{name} predictions:\")\n",
    "    for match, prob in zip(match_names, probs):\n",
    "        print(f\"{match}: Team A win probability = {prob:.2%}\")"
   ]
  },
  {
   "cell_type": "code",
   "execution_count": 32,
   "metadata": {},
   "outputs": [
    {
     "data": {
      "text/plain": [
       "['neural_net_model.pkl']"
      ]
     },
     "execution_count": 32,
     "metadata": {},
     "output_type": "execute_result"
    }
   ],
   "source": [
    "filtered_df.to_csv('world_df.csv', index=False)\n",
    "team_stats_df.to_csv('team_stats.csv', index=False)\n",
    "\n",
    "trained_models['XGBoost'].save_model('xgboost_model.json')\n",
    "\n",
    "import joblib\n",
    "\n",
    "# Save sklearn models:\n",
    "joblib.dump(trained_models['Logistic Regression'], 'logistic_model.pkl')\n",
    "joblib.dump(trained_models['Random Forest'], 'random_forest_model.pkl')\n",
    "joblib.dump(trained_models['Neural Net'], 'neural_net_model.pkl')\n"
   ]
  },
  {
   "cell_type": "code",
   "execution_count": null,
   "metadata": {},
   "outputs": [],
   "source": []
  }
 ],
 "metadata": {
  "kernelspec": {
   "display_name": "Python 3",
   "language": "python",
   "name": "python3"
  },
  "language_info": {
   "codemirror_mode": {
    "name": "ipython",
    "version": 3
   },
   "file_extension": ".py",
   "mimetype": "text/x-python",
   "name": "python",
   "nbconvert_exporter": "python",
   "pygments_lexer": "ipython3",
   "version": "3.12.1"
  }
 },
 "nbformat": 4,
 "nbformat_minor": 4
}
